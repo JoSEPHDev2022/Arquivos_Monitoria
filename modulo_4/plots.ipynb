{
 "cells": [
  {
   "cell_type": "code",
   "execution_count": null,
   "metadata": {},
   "outputs": [],
   "source": [
    "import pandas as pd\n",
    "import numpy as np\n",
    "import seaborn as sns\n",
    "import matplotlib.pyplot as plt"
   ]
  },
  {
   "cell_type": "code",
   "execution_count": null,
   "metadata": {},
   "outputs": [],
   "source": [
    "# Coletando os nomes dos datasets disponíveis por padrão no Seaborn:\n",
    "sns.get_dataset_names()"
   ]
  },
  {
   "cell_type": "markdown",
   "metadata": {},
   "source": [
    "# Titanic"
   ]
  },
  {
   "cell_type": "code",
   "execution_count": null,
   "metadata": {},
   "outputs": [],
   "source": [
    "data_sns = sns.load_dataset('titanic')\n",
    "\n",
    "data_sns"
   ]
  },
  {
   "cell_type": "code",
   "execution_count": null,
   "metadata": {},
   "outputs": [],
   "source": [
    "# Agrupar dados:\n",
    "group = data_sns.groupby('class')['fare'].mean()\n",
    "group"
   ]
  },
  {
   "cell_type": "code",
   "execution_count": null,
   "metadata": {},
   "outputs": [],
   "source": [
    "# Agrupando em formato de dataframe:\n",
    "group = data_sns.groupby('class')[['fare']].mean()\n",
    "group"
   ]
  },
  {
   "cell_type": "code",
   "execution_count": null,
   "metadata": {},
   "outputs": [],
   "source": [
    "group.index"
   ]
  },
  {
   "cell_type": "code",
   "execution_count": null,
   "metadata": {},
   "outputs": [],
   "source": [
    "group.columns"
   ]
  },
  {
   "cell_type": "code",
   "execution_count": null,
   "metadata": {},
   "outputs": [],
   "source": [
    "# Unstack (preparação para plot):\n",
    "group = data_sns.groupby('class', as_index=False)[['fare']].mean().round(2)\n",
    "group"
   ]
  },
  {
   "cell_type": "code",
   "execution_count": null,
   "metadata": {},
   "outputs": [],
   "source": [
    "group.index"
   ]
  },
  {
   "cell_type": "code",
   "execution_count": null,
   "metadata": {},
   "outputs": [],
   "source": [
    "group.columns"
   ]
  },
  {
   "cell_type": "code",
   "execution_count": null,
   "metadata": {},
   "outputs": [],
   "source": [
    "# Plot:\n",
    "sns.barplot(group, x='class', y='fare')"
   ]
  },
  {
   "cell_type": "code",
   "execution_count": null,
   "metadata": {},
   "outputs": [],
   "source": [
    "# Tamanho do plot:\n",
    "figura, axes = plt.subplots(figsize=(12,7))\n",
    "\n",
    "# Medida usada para alguns elementos gráficos:\n",
    "media_ticket = group['fare'].mean()\n",
    "#----------------------------------------------------------------------------------#\n",
    "\n",
    "# Criando o gráfico de barras com seaborn:\n",
    "grafico = sns.barplot(group, x='class', y='fare', edgecolor='black', palette='winter')\n",
    "\n",
    "# Formatando labels dos eixos x e y:\n",
    "plt.xlabel('Classe a Bordo', fontsize=12, labelpad=10)\n",
    "plt.ylabel('Ticket Médio', fontsize=12, labelpad=10)\n",
    "\n",
    "# Adicionando valores de maneira formatada no topo das barras:\n",
    "for (labels) in grafico.containers:\n",
    "    axes.bar_label(labels, padding=1, fmt=\"$%.2f\", color='black')\n",
    "\n",
    "# Adicionando título formatado ao plot:\n",
    "plt.title('Preço Médio do Ticket por Classe a Bordo do Titanic', \n",
    "           fontdict={'size': 15, 'weight': 'bold', 'family': 'serif'}, pad=15)\n",
    "\n",
    "# Criando anotação de aviso ao leitor:\n",
    "plt.annotate(\n",
    "'''Preços em Dólar de acordo com \n",
    "inflação da época do naufrágio.\n",
    "\n",
    "Valores atuais devem ser considerados \n",
    "com o devido cálculo inflacionário.''', \n",
    "             fontsize=9, \n",
    "             fontfamily='monospace',\n",
    "             xy=(1.3, 60), \n",
    "             xytext=(1.3,60),\n",
    "             bbox={'boxstyle':'round', 'fc':'0.75'})\n",
    "\n",
    "# Criando e formatando linha de média:\n",
    "axes.axhline(media_ticket, color='red', linestyle=\"dashdot\", linewidth=1.5, label='Média do Ticket')\n",
    "\n",
    "axes.annotate(f'${media_ticket:.2f}', xy=(2.2, media_ticket), xytext=(2.3, media_ticket + 3),\n",
    "            fontsize=9, color='red', ha='left', va='center')\n",
    "\n",
    "#-----------------------------------------------------------------------------------#\n",
    "# Pedindo ao matplotlib mostrar os \"labels\" definidos em formato de legenda:\n",
    "plt.legend()\n",
    "\n",
    "# Plotando o gráfico resultante:\n",
    "plt.show()"
   ]
  },
  {
   "cell_type": "markdown",
   "metadata": {},
   "source": [
    "## Gráficos de Comparação (multibar chart/catplot)"
   ]
  },
  {
   "cell_type": "code",
   "execution_count": null,
   "metadata": {},
   "outputs": [],
   "source": [
    "g = sns.catplot(data=data_sns, \n",
    "                kind=\"bar\",\n",
    "                x=\"embark_town\", \n",
    "                y=\"age\", \n",
    "                hue=\"alive\", \n",
    "                palette=\"dark\", \n",
    "                alpha=.7, \n",
    "                height=7)\n",
    "\n",
    "g.despine(left=True)\n",
    "g.set_axis_labels(\"City\",\"Age\")\n",
    "g.legend.set_title(\"Vivo?\")"
   ]
  },
  {
   "cell_type": "code",
   "execution_count": null,
   "metadata": {},
   "outputs": [],
   "source": [
    "g = sns.catplot(data=data_sns, \n",
    "                kind=\"bar\",\n",
    "                x=\"class\", \n",
    "                y=\"fare\", \n",
    "                hue=\"sex\", \n",
    "                palette=\"CMRmap_r\", \n",
    "                alpha=.7, \n",
    "                height=7,\n",
    "                errorbar=None)\n",
    "\n",
    "ax = g.facet_axis(0, 0)\n",
    "\n",
    "for container in ax.containers:\n",
    "    labels = [f'${(bar.get_height()):.2f}' for bar in container]\n",
    "    ax.bar_label(container, labels=labels, label_type='edge')\n",
    "\n",
    "plt.title('Preço Médio do Ticket por Classe e Sexo a Bordo do Titanic', \n",
    "           fontdict={'size': 15, 'weight': 'bold', 'family': 'serif'}, pad=15, loc='left')\n",
    "\n",
    "g.set_axis_labels(\"\", \"Fare (US$)\")\n",
    "g.legend.set_title(\"Sexo\")\n",
    "\n",
    "plt.show()"
   ]
  },
  {
   "cell_type": "markdown",
   "metadata": {},
   "source": [
    "## Penguins: Gráficos de Comparação"
   ]
  },
  {
   "cell_type": "code",
   "execution_count": null,
   "metadata": {},
   "outputs": [],
   "source": [
    "penguins = sns.load_dataset(\"penguins\")\n",
    "\n",
    "penguins"
   ]
  },
  {
   "cell_type": "code",
   "execution_count": null,
   "metadata": {},
   "outputs": [],
   "source": [
    "g = sns.catplot(\n",
    "    data=penguins, kind=\"bar\",\n",
    "    x=\"species\", y=\"body_mass_g\", hue=\"sex\",\n",
    "    errorbar=\"sd\", palette=\"dark\", alpha=.6, height=6\n",
    ")\n",
    "g.despine(left=True)\n",
    "g.set_axis_labels(\"\", \"Body mass (g)\")\n",
    "g.legend.set_title(\"\")"
   ]
  },
  {
   "cell_type": "code",
   "execution_count": null,
   "metadata": {},
   "outputs": [],
   "source": [
    "g = sns.catplot(\n",
    "    data=penguins, kind=\"bar\",\n",
    "    x=\"island\", y=\"body_mass_g\", hue=\"sex\",\n",
    "    errorbar=\"sd\", palette=\"dark\", alpha=.6, height=6\n",
    ")\n",
    "g.despine(left=True)\n",
    "g.set_axis_labels(\"\", \"Body mass (g)\")\n",
    "g.legend.set_title(\"\")"
   ]
  },
  {
   "cell_type": "markdown",
   "metadata": {},
   "source": [
    "# Links Úteis!"
   ]
  },
  {
   "cell_type": "markdown",
   "metadata": {},
   "source": [
    "- [Seaborn Palettes (site em Inglês, rolando a página temos exemplos visuais das paletas e cores)](https://medium.com/@morganjonesartist/color-guide-to-seaborn-palettes-da849406d44f)\n",
    "\n",
    "- [Seaborn Catplot (documentação em Inglês)](https://seaborn.pydata.org/generated/seaborn.catplot.html)\n",
    "\n",
    "- [Seaborn Gráficos (documentação em Inglês)](https://seaborn.pydata.org/examples/index.html)\n",
    "\n",
    "- [Hashtag Treinamentos: Seaborn (site em português)](https://www.hashtagtreinamentos.com/graficos-com-seaborn-no-python)"
   ]
  }
 ],
 "metadata": {
  "kernelspec": {
   "display_name": "Python 3",
   "language": "python",
   "name": "python3"
  },
  "language_info": {
   "codemirror_mode": {
    "name": "ipython",
    "version": 3
   },
   "file_extension": ".py",
   "mimetype": "text/x-python",
   "name": "python",
   "nbconvert_exporter": "python",
   "pygments_lexer": "ipython3",
   "version": "3.11.3"
  },
  "orig_nbformat": 4
 },
 "nbformat": 4,
 "nbformat_minor": 2
}
